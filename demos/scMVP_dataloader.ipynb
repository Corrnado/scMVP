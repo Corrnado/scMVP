{
 "cells": [
  {
   "cell_type": "code",
   "execution_count": 1,
   "metadata": {
    "pycharm": {
     "is_executing": false
    }
   },
   "outputs": [
    {
     "name": "stderr",
     "output_type": "stream",
     "text": [
      "[2020-09-23 22:01:14,502] INFO - scMVP._settings | Added StreamHandler with custom formatter to 'scMVP' logger.\n"
     ]
    }
   ],
   "source": [
    "%matplotlib inline\n",
    "\n",
    "import os\n",
    "import gzip\n",
    "import numpy as np\n",
    "import pandas as pd\n",
    "import matplotlib as mpl\n",
    "import matplotlib.pyplot as plt\n",
    "import random\n",
    "from scMVP.dataset import LoadData, SnareDemo, SciCarDemo, PairedDemo"
   ]
  },
  {
   "cell_type": "markdown",
   "metadata": {
    "pycharm": {
     "name": "#%% md\n"
    }
   },
   "source": [
    "## Load published joint profiling data\n",
    "----\n",
    "- You can download SNARE-seq, sci-CAR and Paired-seq dataset from GEO, and uncompressed to your folder. <br>\n",
    "- You can load these dataset with original format with scMVP built-in demo loader. <br>"
   ]
  },
  {
   "cell_type": "code",
   "execution_count": 2,
   "metadata": {},
   "outputs": [
    {
     "name": "stderr",
     "output_type": "stream",
     "text": [
      "[2020-09-23 22:01:15,248] INFO - scMVP.dataset.scMVP_dataloader | Please select from \"CellLineMixture\", \"AdBrainCortex\" or \"P0_BrainCortex\" dataset.\n"
     ]
    }
   ],
   "source": [
    "# Show built-in dataset choices\n",
    "tell_me_input_choice=SnareDemo()"
   ]
  },
  {
   "cell_type": "code",
   "execution_count": 3,
   "metadata": {},
   "outputs": [
    {
     "name": "stderr",
     "output_type": "stream",
     "text": [
      "[2020-09-23 22:01:15,294] INFO - scMVP.dataset.scMVP_dataloader | Preprocessing joint profiling dataset.\n",
      "[2020-09-23 22:01:27,940] INFO - scMVP.dataset.scMVP_dataloader | Finished preprocessing dataset\n",
      "[2020-09-23 22:01:27,991] INFO - scMVP.dataset.dataset | Remapping batch_indices to [0,N]\n",
      "[2020-09-23 22:01:27,993] INFO - scMVP.dataset.dataset | Remapping labels to [0,N]\n",
      "[2020-09-23 22:01:28,658] INFO - scMVP.dataset.dataset | Computing the library size for the new data\n",
      "[2020-09-23 22:01:28,678] INFO - scMVP.dataset.dataset | Downsampled from 1047 to 1047 cells\n"
     ]
    },
    {
     "data": {
      "text/plain": [
       "GeneExpressionDataset object with n_cells x nb_genes = 1047 x 18666\n",
       "    gene_attribute_names: 'gene_names'\n",
       "    cell_attribute_names: 'batch_indices', 'barcodes', 'local_vars', 'labels', 'local_means', 'atac_expression'\n",
       "    cell_categorical_attribute_names: 'batch_indices', 'labels'\n",
       "    cell_measurements_columns: {'atac_expression': 'atac_names'}"
      ]
     },
     "execution_count": 3,
     "metadata": {},
     "output_type": "execute_result"
    }
   ],
   "source": [
    "# Load snare-seq cell line dataset to scMVP\n",
    "snare_cellline_demo = SnareDemo(dataset_name=\"CellLineMixture\",data_path=\"dataset/snare_seq/\")\n",
    "snare_cellline_demo"
   ]
  },
  {
   "cell_type": "code",
   "execution_count": 4,
   "metadata": {},
   "outputs": [
    {
     "name": "stderr",
     "output_type": "stream",
     "text": [
      "[2020-09-23 22:01:28,699] INFO - scMVP.dataset.scMVP_dataloader | Preprocessing joint profiling dataset.\n",
      "[2020-09-23 22:02:03,537] INFO - scMVP.dataset.scMVP_dataloader | Finished preprocessing dataset\n",
      "[2020-09-23 22:02:03,810] INFO - scMVP.dataset.dataset | Remapping batch_indices to [0,N]\n",
      "[2020-09-23 22:02:03,811] INFO - scMVP.dataset.dataset | Remapping labels to [0,N]\n",
      "[2020-09-23 22:02:06,268] INFO - scMVP.dataset.dataset | Computing the library size for the new data\n",
      "[2020-09-23 22:02:06,360] INFO - scMVP.dataset.dataset | Downsampled from 5081 to 5081 cells\n"
     ]
    },
    {
     "data": {
      "text/plain": [
       "GeneExpressionDataset object with n_cells x nb_genes = 5081 x 19322\n",
       "    gene_attribute_names: 'gene_names'\n",
       "    cell_attribute_names: 'batch_indices', 'barcodes', 'local_vars', 'labels', 'local_means', 'atac_expression'\n",
       "    cell_categorical_attribute_names: 'batch_indices', 'labels'\n",
       "    cell_measurements_columns: {'atac_expression': 'atac_names'}"
      ]
     },
     "execution_count": 4,
     "metadata": {},
     "output_type": "execute_result"
    },
    {
     "name": "stderr",
     "output_type": "stream",
     "text": [
      "[2020-09-23 22:02:06,382] INFO - scMVP.dataset.scMVP_dataloader | Preprocessing joint profiling dataset.\n",
      "[2020-09-23 22:03:31,221] INFO - scMVP.dataset.scMVP_dataloader | Finished preprocessing dataset\n",
      "[2020-09-23 22:03:32,393] INFO - scMVP.dataset.dataset | Remapping batch_indices to [0,N]\n",
      "[2020-09-23 22:03:32,394] INFO - scMVP.dataset.dataset | Remapping labels to [0,N]\n",
      "[2020-09-23 22:03:39,031] INFO - scMVP.dataset.dataset | Computing the library size for the new data\n",
      "[2020-09-23 22:03:39,671] INFO - scMVP.dataset.dataset | Downsampled from 10309 to 10309 cells\n"
     ]
    },
    {
     "data": {
      "text/plain": [
       "GeneExpressionDataset object with n_cells x nb_genes = 10309 x 33160\n",
       "    gene_attribute_names: 'gene_names'\n",
       "    cell_attribute_names: 'batch_indices', 'barcodes', 'local_vars', 'labels', 'local_means', 'atac_expression'\n",
       "    cell_categorical_attribute_names: 'batch_indices', 'labels'\n",
       "    cell_measurements_columns: {'atac_expression': 'atac_names'}"
      ]
     },
     "execution_count": 4,
     "metadata": {},
     "output_type": "execute_result"
    }
   ],
   "source": [
    "# Load snare-seq mouse brain P0 dataset to scMVP\n",
    "snare_p0_demo = SnareDemo(dataset_name=\"P0_BrainCortex\",data_path=\"dataset/snare_seq/\")\n",
    "snare_p0_demo\n",
    "\n",
    "# Load snare-seq mouse adult brain dataset to scMVP\n",
    "snare_ad_demo = SnareDemo(dataset_name=\"AdBrainCortex\",data_path=\"dataset/snare_seq/\")\n",
    "snare_ad_demo"
   ]
  },
  {
   "cell_type": "code",
   "execution_count": 5,
   "metadata": {},
   "outputs": [
    {
     "name": "stderr",
     "output_type": "stream",
     "text": [
      "[2020-09-23 22:03:40,320] INFO - scMVP.dataset.scMVP_dataloader | Preprocessing joint profiling dataset.\n",
      "[2020-09-23 22:03:55,615] INFO - scMVP.dataset.scMVP_dataloader | Finished preprocessing dataset\n",
      "[2020-09-23 22:03:57,254] INFO - scMVP.dataset.dataset | Remapping batch_indices to [0,N]\n",
      "[2020-09-23 22:03:57,256] INFO - scMVP.dataset.dataset | Remapping labels to [0,N]\n",
      "[2020-09-23 22:03:59,003] INFO - scMVP.dataset.dataset | Computing the library size for the new data\n",
      "[2020-09-23 22:03:59,807] INFO - scMVP.dataset.dataset | Downsampled from 4825 to 4825 cells\n"
     ]
    },
    {
     "data": {
      "text/plain": [
       "GeneExpressionDataset object with n_cells x nb_genes = 4825 x 113153\n",
       "    gene_attribute_names: 'gene_names'\n",
       "    cell_attribute_names: 'batch_indices', 'barcodes', 'local_vars', 'labels', 'local_means', 'atac_expression'\n",
       "    cell_categorical_attribute_names: 'batch_indices', 'labels'\n",
       "    cell_measurements_columns: {'atac_expression': 'atac_names'}"
      ]
     },
     "execution_count": 5,
     "metadata": {},
     "output_type": "execute_result"
    }
   ],
   "source": [
    "## Load sci-CAR dataset\n",
    "scicar_demo = SciCarDemo(dataset_name=\"CellLineMixture\",data_path=\"dataset/sci_car/\")\n",
    "scicar_demo"
   ]
  },
  {
   "cell_type": "code",
   "execution_count": 6,
   "metadata": {},
   "outputs": [
    {
     "name": "stderr",
     "output_type": "stream",
     "text": [
      "[2020-09-23 22:03:59,870] INFO - scMVP.dataset.scMVP_dataloader | Preprocessing joint profiling dataset.\n",
      "[2020-09-23 22:04:09,341] INFO - scMVP.dataset.scMVP_dataloader | Loading Label into dataset.\n",
      "[2020-09-23 22:04:09,344] INFO - scMVP.dataset.scMVP_dataloader | Finished preprocessing dataset\n",
      "[2020-09-23 22:04:09,838] WARNING - scMVP.dataset.dataset | This dataset has some empty cells, this might fail scMVP inference.Data should be filtered with `my_dataset.filter_cells_by_count()\n",
      "[2020-09-23 22:04:09,845] INFO - scMVP.dataset.dataset | Remapping batch_indices to [0,N]\n",
      "[2020-09-23 22:04:09,847] INFO - scMVP.dataset.dataset | Remapping labels to [0,N]\n",
      "[2020-09-23 22:04:10,159] INFO - scMVP.dataset.dataset | Computing the library size for the new data\n",
      "[2020-09-23 22:04:10,382] INFO - scMVP.dataset.dataset | Downsampled from 3359 to 2986 cells\n"
     ]
    },
    {
     "data": {
      "text/plain": [
       "GeneExpressionDataset object with n_cells x nb_genes = 2986 x 50695\n",
       "    gene_attribute_names: 'gene_names'\n",
       "    cell_attribute_names: 'batch_indices', 'barcodes', 'local_vars', 'labels', 'local_means', 'atac_expression', 'Label_label'\n",
       "    cell_categorical_attribute_names: 'batch_indices', 'labels'\n",
       "    cell_measurements_columns: {'atac_expression': 'atac_names', 'Label_label': 'Label'}"
      ]
     },
     "execution_count": 6,
     "metadata": {},
     "output_type": "execute_result"
    }
   ],
   "source": [
    "# Load demo paried-seq dataset\n",
    "paired_demo = PairedDemo(dataset_name=\"CellLineMixture\",data_path=\"dataset/paried_seq/Paired_seq_Cell_Mix_matrix/\")\n",
    "paired_demo"
   ]
  },
  {
   "cell_type": "code",
   "execution_count": 7,
   "metadata": {},
   "outputs": [
    {
     "name": "stderr",
     "output_type": "stream",
     "text": [
      "[2020-09-23 22:04:10,399] INFO - scMVP.dataset.scMVP_dataloader | Preprocessing joint profiling dataset.\n",
      "[2020-09-23 22:04:23,384] INFO - scMVP.dataset.scMVP_dataloader | Loading Ident into dataset.\n",
      "[2020-09-23 22:04:23,387] INFO - scMVP.dataset.scMVP_dataloader | Finished preprocessing dataset\n",
      "[2020-09-23 22:04:23,965] WARNING - scMVP.dataset.dataset | This dataset has some empty cells, this might fail scMVP inference.Data should be filtered with `my_dataset.filter_cells_by_count()\n",
      "[2020-09-23 22:04:23,973] INFO - scMVP.dataset.dataset | Remapping batch_indices to [0,N]\n",
      "[2020-09-23 22:04:23,974] INFO - scMVP.dataset.dataset | Remapping labels to [0,N]\n",
      "[2020-09-23 22:04:45,621] INFO - scMVP.dataset.dataset | Computing the library size for the new data\n",
      "[2020-09-23 22:04:45,946] INFO - scMVP.dataset.dataset | Downsampled from 3359 to 3259 cells\n"
     ]
    }
   ],
   "source": [
    "# Manual load paired-seq dataset with custom threshold and embedding files\n",
    "my_demo_data_set = {\n",
    "                \"gene_names\": \"Cell_Mix_RNA/genes.tsv\",\n",
    "                \"gene_expression\": \"Cell_Mix_RNA/matrix.mtx\",\n",
    "                \"gene_barcodes\": \"Cell_Mix_RNA/barcodes.tsv\",\n",
    "                \"atac_names\": \"Cell_Mix_DNA/genes.tsv\",\n",
    "                \"atac_expression\": \"Cell_Mix_DNA/matrix.mtx\",\n",
    "                \"atac_barcodes\": \"Cell_Mix_DNA/barcodes.tsv\"\n",
    "                }\n",
    "cell_embeds=pd.read_csv(\"dataset/paried_seq/Paired_seq_Cell_Mix_matrix/Cell_embeddings.xls\",sep='\\t')\n",
    "cell_embeds_avail=cell_embeds.iloc[:,0:2]\n",
    "manual_demo = LoadData(dataset=my_demo_data_set,data_path=\"dataset/paried_seq/Paired_seq_Cell_Mix_matrix/\",\n",
    "                       dense=False,gzipped=False, atac_threshold=0.0005,\n",
    "                       cell_threshold=1,cell_meta=cell_embeds_avail)"
   ]
  },
  {
   "cell_type": "code",
   "execution_count": null,
   "metadata": {},
   "outputs": [],
   "source": []
  }
 ],
 "metadata": {
  "kernelspec": {
   "display_name": "Python 3",
   "language": "python",
   "name": "python3"
  },
  "language_info": {
   "codemirror_mode": {
    "name": "ipython",
    "version": 3
   },
   "file_extension": ".py",
   "mimetype": "text/x-python",
   "name": "python",
   "nbconvert_exporter": "python",
   "pygments_lexer": "ipython3",
   "version": "3.7.9"
  },
  "pycharm": {
   "stem_cell": {
    "cell_type": "raw",
    "metadata": {
     "collapsed": false
    },
    "source": []
   }
  }
 },
 "nbformat": 4,
 "nbformat_minor": 1
}
