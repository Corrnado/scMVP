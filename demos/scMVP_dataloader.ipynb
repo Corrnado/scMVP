{
 "cells": [
  {
   "cell_type": "code",
   "execution_count": 1,
   "metadata": {
    "pycharm": {
     "is_executing": false
    }
   },
   "outputs": [
    {
     "name": "stderr",
     "output_type": "stream",
     "text": [
      "[2020-09-21 09:15:10,916] INFO - scMVP._settings | Added StreamHandler with custom formatter to 'scMVP' logger.\n"
     ]
    }
   ],
   "source": [
    "%matplotlib inline\n",
    "\n",
    "import os\n",
    "import gzip\n",
    "import numpy as np\n",
    "import pandas as pd\n",
    "import matplotlib as mpl\n",
    "import matplotlib.pyplot as plt\n",
    "import random\n",
    "from scMVP.dataset import LoadData, SnareDemo, SciCarDemo, PairedDemo"
   ]
  },
  {
   "cell_type": "markdown",
   "metadata": {
    "pycharm": {
     "name": "#%% md\n"
    }
   },
   "source": [
    "## Load published joint profiling data\n",
    "----\n",
    "- You can download SNARE-seq, sci-CAR and Paired-seq dataset from GEO, and uncompressed to your folder. <br>\n",
    "- You can load these dataset with original format with scMVP built-in demo loader. <br>"
   ]
  },
  {
   "cell_type": "code",
   "execution_count": 2,
   "metadata": {},
   "outputs": [
    {
     "name": "stderr",
     "output_type": "stream",
     "text": [
      "[2020-09-21 09:15:11,647] INFO - scMVP.dataset.scMVP_dataloader | Please select from \"CellLineMixture\", \"AdBrainCortex\" or \"P0_BrainCortex\" dataset.\n"
     ]
    }
   ],
   "source": [
    "# Show built-in dataset choices\n",
    "tell_me_input_choice=SnareDemo()"
   ]
  },
  {
   "cell_type": "code",
   "execution_count": 3,
   "metadata": {},
   "outputs": [
    {
     "name": "stderr",
     "output_type": "stream",
     "text": [
      "[2020-09-21 09:15:11,700] INFO - scMVP.dataset.scMVP_dataloader | Preprocessing joint profiling dataset.\n",
      "[2020-09-21 09:15:24,996] INFO - scMVP.dataset.scMVP_dataloader | Finished preprocessing dataset\n",
      "[2020-09-21 09:15:25,046] INFO - scMVP.dataset.dataset | Remapping labels to [0,N]\n",
      "[2020-09-21 09:15:25,048] INFO - scMVP.dataset.dataset | Remapping batch_indices to [0,N]\n",
      "[2020-09-21 09:15:25,711] INFO - scMVP.dataset.dataset | Computing the library size for the new data\n",
      "[2020-09-21 09:15:25,731] INFO - scMVP.dataset.dataset | Downsampled from 1047 to 1047 cells\n"
     ]
    },
    {
     "data": {
      "text/plain": [
       "GeneExpressionDataset object with n_cells x nb_genes = 1047 x 18666\n",
       "    gene_attribute_names: 'gene_names'\n",
       "    cell_attribute_names: 'atac_expression', 'barcodes', 'local_means', 'local_vars', 'labels', 'batch_indices'\n",
       "    cell_categorical_attribute_names: 'labels', 'batch_indices'\n",
       "    cell_measurements_columns: {'atac_expression': 'atac_names'}"
      ]
     },
     "execution_count": 3,
     "metadata": {},
     "output_type": "execute_result"
    }
   ],
   "source": [
    "# Load snare-seq cell line dataset to scMVP\n",
    "snare_cellline_demo = SnareDemo(dataset_name=\"CellLineMixture\",data_path=\"dataset/snare_seq/\")\n",
    "snare_cellline_demo"
   ]
  },
  {
   "cell_type": "code",
   "execution_count": 4,
   "metadata": {},
   "outputs": [
    {
     "name": "stderr",
     "output_type": "stream",
     "text": [
      "[2020-09-21 09:15:25,751] INFO - scMVP.dataset.scMVP_dataloader | Preprocessing joint profiling dataset.\n",
      "[2020-09-21 09:16:04,429] INFO - scMVP.dataset.scMVP_dataloader | Finished preprocessing dataset\n",
      "[2020-09-21 09:16:04,698] INFO - scMVP.dataset.dataset | Remapping labels to [0,N]\n",
      "[2020-09-21 09:16:04,700] INFO - scMVP.dataset.dataset | Remapping batch_indices to [0,N]\n",
      "[2020-09-21 09:16:07,151] INFO - scMVP.dataset.dataset | Computing the library size for the new data\n",
      "[2020-09-21 09:16:07,245] INFO - scMVP.dataset.dataset | Downsampled from 5081 to 5081 cells\n"
     ]
    },
    {
     "data": {
      "text/plain": [
       "GeneExpressionDataset object with n_cells x nb_genes = 5081 x 19322\n",
       "    gene_attribute_names: 'gene_names'\n",
       "    cell_attribute_names: 'atac_expression', 'barcodes', 'local_means', 'local_vars', 'labels', 'batch_indices'\n",
       "    cell_categorical_attribute_names: 'labels', 'batch_indices'\n",
       "    cell_measurements_columns: {'atac_expression': 'atac_names'}"
      ]
     },
     "execution_count": 4,
     "metadata": {},
     "output_type": "execute_result"
    },
    {
     "name": "stderr",
     "output_type": "stream",
     "text": [
      "[2020-09-21 09:16:07,267] INFO - scMVP.dataset.scMVP_dataloader | Preprocessing joint profiling dataset.\n",
      "[2020-09-21 09:17:38,938] INFO - scMVP.dataset.scMVP_dataloader | Finished preprocessing dataset\n",
      "[2020-09-21 09:17:39,951] INFO - scMVP.dataset.dataset | Remapping labels to [0,N]\n",
      "[2020-09-21 09:17:39,952] INFO - scMVP.dataset.dataset | Remapping batch_indices to [0,N]\n",
      "[2020-09-21 09:17:45,953] INFO - scMVP.dataset.dataset | Computing the library size for the new data\n",
      "[2020-09-21 09:17:46,493] INFO - scMVP.dataset.dataset | Downsampled from 10309 to 10309 cells\n"
     ]
    },
    {
     "data": {
      "text/plain": [
       "GeneExpressionDataset object with n_cells x nb_genes = 10309 x 33160\n",
       "    gene_attribute_names: 'gene_names'\n",
       "    cell_attribute_names: 'atac_expression', 'barcodes', 'local_means', 'local_vars', 'labels', 'batch_indices'\n",
       "    cell_categorical_attribute_names: 'labels', 'batch_indices'\n",
       "    cell_measurements_columns: {'atac_expression': 'atac_names'}"
      ]
     },
     "execution_count": 4,
     "metadata": {},
     "output_type": "execute_result"
    }
   ],
   "source": [
    "# Load snare-seq mouse brain P0 dataset to scMVP\n",
    "snare_p0_demo = SnareDemo(dataset_name=\"P0_BrainCortex\",data_path=\"dataset/snare_seq/\")\n",
    "snare_p0_demo\n",
    "\n",
    "# Load snare-seq mouse adult brain dataset to scMVP\n",
    "snare_ad_demo = SnareDemo(dataset_name=\"AdBrainCortex\",data_path=\"dataset/snare_seq/\")\n",
    "snare_ad_demo"
   ]
  },
  {
   "cell_type": "code",
   "execution_count": 5,
   "metadata": {},
   "outputs": [
    {
     "name": "stderr",
     "output_type": "stream",
     "text": [
      "[2020-09-21 09:17:47,147] INFO - scMVP.dataset.scMVP_dataloader | Preprocessing joint profiling dataset.\n",
      "[2020-09-21 09:18:02,326] INFO - scMVP.dataset.scMVP_dataloader | Finished preprocessing dataset\n",
      "[2020-09-21 09:18:03,956] INFO - scMVP.dataset.dataset | Remapping labels to [0,N]\n",
      "[2020-09-21 09:18:03,958] INFO - scMVP.dataset.dataset | Remapping batch_indices to [0,N]\n",
      "[2020-09-21 09:18:05,690] INFO - scMVP.dataset.dataset | Computing the library size for the new data\n",
      "[2020-09-21 09:18:06,489] INFO - scMVP.dataset.dataset | Downsampled from 4825 to 4825 cells\n"
     ]
    },
    {
     "data": {
      "text/plain": [
       "GeneExpressionDataset object with n_cells x nb_genes = 4825 x 113153\n",
       "    gene_attribute_names: 'gene_names'\n",
       "    cell_attribute_names: 'atac_expression', 'barcodes', 'local_means', 'local_vars', 'labels', 'batch_indices'\n",
       "    cell_categorical_attribute_names: 'labels', 'batch_indices'\n",
       "    cell_measurements_columns: {'atac_expression': 'atac_names'}"
      ]
     },
     "execution_count": 5,
     "metadata": {},
     "output_type": "execute_result"
    },
    {
     "name": "stderr",
     "output_type": "stream",
     "text": [
      "[2020-09-21 09:18:06,591] INFO - scMVP.dataset.scMVP_dataloader | Preprocessing joint profiling dataset.\n",
      "[2020-09-21 09:18:16,598] INFO - scMVP.dataset.scMVP_dataloader | Finished preprocessing dataset\n",
      "[2020-09-21 09:18:17,092] WARNING - scMVP.dataset.dataset | This dataset has some empty cells, this might fail scMVP inference.Data should be filtered with `my_dataset.filter_cells_by_count()\n",
      "[2020-09-21 09:18:17,101] INFO - scMVP.dataset.dataset | Remapping labels to [0,N]\n",
      "[2020-09-21 09:18:17,102] INFO - scMVP.dataset.dataset | Remapping batch_indices to [0,N]\n",
      "[2020-09-21 09:18:17,416] INFO - scMVP.dataset.dataset | Computing the library size for the new data\n",
      "[2020-09-21 09:18:17,640] INFO - scMVP.dataset.dataset | Downsampled from 3359 to 2986 cells\n"
     ]
    },
    {
     "data": {
      "text/plain": [
       "GeneExpressionDataset object with n_cells x nb_genes = 2986 x 50695\n",
       "    gene_attribute_names: 'gene_names'\n",
       "    cell_attribute_names: 'atac_expression', 'barcodes', 'local_means', 'local_vars', 'labels', 'batch_indices'\n",
       "    cell_categorical_attribute_names: 'labels', 'batch_indices'\n",
       "    cell_measurements_columns: {'atac_expression': 'atac_names'}"
      ]
     },
     "execution_count": 5,
     "metadata": {},
     "output_type": "execute_result"
    }
   ],
   "source": [
    "## Load sci-CAR or paired-seq dataset\n",
    "scicar_demo = SciCarDemo(dataset_name=\"CellLineMixture\",data_path=\"dataset/sci_car/\")\n",
    "scicar_demo\n",
    "\n",
    "paired_demo = PairedDemo(dataset_name=\"CellLineMixture\",data_path=\"dataset/paried_seq/Paired_seq_Cell_Mix_matrix/\")\n",
    "paired_demo"
   ]
  },
  {
   "cell_type": "code",
   "execution_count": 6,
   "metadata": {},
   "outputs": [
    {
     "name": "stderr",
     "output_type": "stream",
     "text": [
      "[2020-09-21 09:18:17,651] INFO - scMVP.dataset.scMVP_dataloader | Preprocessing joint profiling dataset.\n",
      "[2020-09-21 09:18:59,822] INFO - scMVP.dataset.scMVP_dataloader | Finished preprocessing dataset\n",
      "[2020-09-21 09:19:01,118] INFO - scMVP.dataset.dataset | Remapping labels to [0,N]\n",
      "[2020-09-21 09:19:01,120] INFO - scMVP.dataset.dataset | Remapping batch_indices to [0,N]\n",
      "[2020-09-21 09:19:01,958] INFO - scMVP.dataset.dataset | Computing the library size for the new data\n",
      "[2020-09-21 09:19:02,623] INFO - scMVP.dataset.dataset | Downsampled from 15191 to 15191 cells\n"
     ]
    }
   ],
   "source": [
    "# Manual load large joint profiling dataset\n",
    "my_demo_data_set = {\n",
    "                \"gene_names\": \"Adult_CTX_RNA/genes.tsv\",\n",
    "                \"gene_expression\": \"Adult_CTX_RNA/matrix.mtx\",\n",
    "                \"gene_barcodes\": \"Adult_CTX_RNA/barcodes.tsv\",\n",
    "                \"atac_names\": \"Adult_CTX_DNA/genes.tsv\",\n",
    "                \"atac_expression\": \"Adult_CTX_DNA/matrix.mtx\",\n",
    "                \"atac_barcodes\": \"Adult_CTX_DNA/barcodes.tsv\"\n",
    "                }\n",
    "manual_demo = LoadData(dataset=my_demo_data_set,data_path=\"dataset/paried_seq/Adult_Cerebrail_Cortex/\",\n",
    "                       dense=False,gzipped=False, atac_threshold=0.005,cell_threshold=100)"
   ]
  },
  {
   "cell_type": "code",
   "execution_count": null,
   "metadata": {},
   "outputs": [],
   "source": []
  }
 ],
 "metadata": {
  "kernelspec": {
   "display_name": "Python 3",
   "language": "python",
   "name": "python3"
  },
  "language_info": {
   "codemirror_mode": {
    "name": "ipython",
    "version": 3
   },
   "file_extension": ".py",
   "mimetype": "text/x-python",
   "name": "python",
   "nbconvert_exporter": "python",
   "pygments_lexer": "ipython3",
   "version": "3.7.9"
  },
  "pycharm": {
   "stem_cell": {
    "cell_type": "raw",
    "metadata": {
     "collapsed": false
    },
    "source": []
   }
  }
 },
 "nbformat": 4,
 "nbformat_minor": 1
}
